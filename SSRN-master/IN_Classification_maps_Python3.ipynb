{
 "cells": [
  {
   "cell_type": "code",
   "execution_count": 9,
   "metadata": {},
   "outputs": [
    {
     "name": "stdout",
     "output_type": "stream",
     "text": [
      "Finished importing modules in *IN Classification Maps* at Thu May  2 19:29:55 2019\n"
     ]
    }
   ],
   "source": [
    "# -*- coding: utf-8 -*-\n",
    "import numpy as np\n",
    "import time\n",
    "import matplotlib.pyplot as plt\n",
    "import scipy.io as sio\n",
    "from keras.utils.np_utils import to_categorical\n",
    "from keras.optimizers import Adam, SGD, Adadelta, RMSprop, Nadam\n",
    "\n",
    "from sklearn import metrics, preprocessing\n",
    "\n",
    "from Utils import zeroPadding, normalization, doPCA, modelStatsRecord, averageAccuracy, ssrn_SS_IN\n",
    "print('Finished importing modules in *IN Classification Maps* at ' + time.ctime(time.time()))"
   ]
  },
  {
   "cell_type": "code",
   "execution_count": 10,
   "metadata": {},
   "outputs": [
    {
     "name": "stdout",
     "output_type": "stream",
     "text": [
      "Finished sampling in *IN Classification Maps* at Thu May  2 19:29:57 2019\n"
     ]
    }
   ],
   "source": [
    "def sampling(proptionVal, groundTruth):              #divide dataset into train and test datasets\n",
    "    labels_loc = {}\n",
    "    train = {}\n",
    "    test = {}\n",
    "    m = max(groundTruth)\n",
    "    for i in range(m):\n",
    "        indices = [j for j, x in enumerate(groundTruth.ravel().tolist()) if x == i + 1]\n",
    "        np.random.shuffle(indices)\n",
    "        labels_loc[i] = indices\n",
    "        nb_val = int(proptionVal * len(indices))\n",
    "        train[i] = indices[:-nb_val]\n",
    "        test[i] = indices[-nb_val:]\n",
    "#    whole_indices = []\n",
    "    train_indices = []\n",
    "    test_indices = []\n",
    "    for i in range(m):\n",
    "#        whole_indices += labels_loc[i]\n",
    "        train_indices += train[i]\n",
    "        test_indices += test[i]\n",
    "    np.random.shuffle(train_indices)\n",
    "    np.random.shuffle(test_indices)\n",
    "    return train_indices, test_indices\n",
    "print('Finished sampling in *IN Classification Maps* at ' + time.ctime(time.time()))"
   ]
  },
  {
   "cell_type": "code",
   "execution_count": 11,
   "metadata": {},
   "outputs": [
    {
     "name": "stdout",
     "output_type": "stream",
     "text": [
      "Finished indexToAssignment in *IN Classification Maps* at Thu May  2 19:29:58 2019\n"
     ]
    }
   ],
   "source": [
    "def indexToAssignment(index_, Row, Col, pad_length):\n",
    "    new_assign = {}\n",
    "    for counter, value in enumerate(index_):\n",
    "        assign_0 = value // Col + pad_length\n",
    "        assign_1 = value % Col + pad_length\n",
    "        new_assign[counter] = [assign_0, assign_1]\n",
    "    return new_assign\n",
    "\n",
    "print('Finished indexToAssignment in *IN Classification Maps* at ' + time.ctime(time.time()))"
   ]
  },
  {
   "cell_type": "code",
   "execution_count": 12,
   "metadata": {},
   "outputs": [
    {
     "name": "stdout",
     "output_type": "stream",
     "text": [
      "Finished assignmentToIndex in *IN Classification Maps* at Thu May  2 19:29:59 2019\n"
     ]
    }
   ],
   "source": [
    "def assignmentToIndex( assign_0, assign_1, Row, Col):\n",
    "    new_index = assign_0 * Col + assign_1\n",
    "    return new_index\n",
    "\n",
    "print('Finished assignmentToIndex in *IN Classification Maps* at ' + time.ctime(time.time()))"
   ]
  },
  {
   "cell_type": "code",
   "execution_count": 13,
   "metadata": {},
   "outputs": [
    {
     "name": "stdout",
     "output_type": "stream",
     "text": [
      "Finished selectNeighboringPatch in *IN Classification Maps* at Thu May  2 19:30:00 2019\n"
     ]
    }
   ],
   "source": [
    "def selectNeighboringPatch(matrix, pos_row, pos_col, ex_len):\n",
    "    selected_rows = matrix[range(pos_row-ex_len,pos_row+ex_len+1), :]\n",
    "    selected_patch = selected_rows[:, range(pos_col-ex_len, pos_col+ex_len+1)]\n",
    "    return selected_patch\n",
    "\n",
    "print('Finished selectNeighboringPatch in *IN Classification Maps* at ' + time.ctime(time.time()))"
   ]
  },
  {
   "cell_type": "code",
   "execution_count": 14,
   "metadata": {},
   "outputs": [
    {
     "name": "stdout",
     "output_type": "stream",
     "text": [
      "Finished classificationMap in *IN Classification Maps* at Thu May  2 19:30:01 2019\n"
     ]
    }
   ],
   "source": [
    "def classification_map(map, groundTruth, dpi, savePath):\n",
    "\n",
    "    fig = plt.figure(frameon=False)\n",
    "    fig.set_size_inches(groundTruth.shape[1]*2.0/dpi, groundTruth.shape[0]*2.0/dpi)\n",
    "\n",
    "    axes = plt.Axes(fig, [0., 0., 1., 1.])\n",
    "    axes.set_axis_off()\n",
    "    axes.xaxis.set_visible(False)\n",
    "    axes.yaxis.set_visible(False)\n",
    "    fig.add_axes(axes)\n",
    "\n",
    "    #axes.imshow(map, aspect='normal')\n",
    "    axes.imshow(map)\n",
    "    fig.savefig(savePath, dpi = dpi)\n",
    "\n",
    "    return 0\n",
    "\n",
    "print('Finished classificationMap in *IN Classification Maps* at ' + time.ctime(time.time()))"
   ]
  },
  {
   "cell_type": "code",
   "execution_count": 15,
   "metadata": {},
   "outputs": [
    {
     "name": "stdout",
     "output_type": "stream",
     "text": [
      "Finished res4modelss in *IN Classification Maps* at Thu May  2 19:30:02 2019\n"
     ]
    }
   ],
   "source": [
    "def res4_model_ss():\n",
    "    model_res4 = ssrn_SS_IN.ResnetBuilder.build_resnet_8((1, img_rows, img_cols, img_channels), nb_classes)\n",
    "\n",
    "    RMS = RMSprop(lr=0.0003)\n",
    "    # Let's train the model using RMSprop\n",
    "    model_res4.compile(loss='categorical_crossentropy', optimizer=RMS, metrics=['accuracy'])\n",
    "\n",
    "    return model_res4\n",
    "\n",
    "print('Finished res4modelss in *IN Classification Maps* at ' + time.ctime(time.time()))"
   ]
  },
  {
   "cell_type": "code",
   "execution_count": 16,
   "metadata": {},
   "outputs": [
    {
     "name": "stdout",
     "output_type": "stream",
     "text": [
      "(145, 145, 200)\n"
     ]
    },
    {
     "name": "stderr",
     "output_type": "stream",
     "text": [
      "C:\\ProgramData\\Anaconda3\\lib\\site-packages\\sklearn\\utils\\validation.py:595: DataConversionWarning: Data with input dtype uint16 was converted to float64 by the scale function.\n",
      "  warnings.warn(msg, DataConversionWarning)\n"
     ]
    },
    {
     "name": "stdout",
     "output_type": "stream",
     "text": [
      "# 1 Iteration\n",
      "input shape: 200\n",
      "input shape: (None, 7, 7, 97, 24)\n",
      "conv_spc_result shape: (None, 7, 7, 1, 128)\n",
      "conv1 shape: (None, 5, 5, 1, 24)\n",
      "input shape: (None, 5, 5, 1, 24)\n",
      "Finished *IN Classification Maps* at Thu May  2 19:32:55 2019\n"
     ]
    },
    {
     "data": {
      "image/png": "[encoded data removed]",
      "text/plain": [
       "<Figure size 870x870 with 1 Axes>"
      ]
     },
     "metadata": {
      "needs_background": "light"
     },
     "output_type": "display_data"
    }
   ],
   "source": [
    "mat_data = sio.loadmat(r'''C:\\Users\\josep\\Desktop\\RS\\residualnet_tensorflow_keras\\residualnet_tensorflow_keras\\SSRN-master\\datasets\\IN\\Indian_pines_corrected.mat''')\n",
    "data_IN = mat_data['indian_pines_corrected']\n",
    "mat_gt = sio.loadmat(r'''C:\\Users\\josep\\Desktop\\RS\\residualnet_tensorflow_keras\\residualnet_tensorflow_keras\\SSRN-master\\datasets\\IN\\Indian_pines_gt.mat''')\n",
    "gt_IN = mat_gt['indian_pines_gt']\n",
    "print (data_IN.shape)\n",
    "\n",
    "new_gt_IN = gt_IN\n",
    "\n",
    "batch_size = 16\n",
    "nb_classes = 16\n",
    "nb_epoch = 200     #400\n",
    "img_rows, img_cols = 7, 7         #27, 27\n",
    "patience = 200\n",
    "\n",
    "INPUT_DIMENSION_CONV = 200\n",
    "INPUT_DIMENSION = 200\n",
    "\n",
    "# 10%:10%:80% data for training, validation and testing\n",
    "\n",
    "TOTAL_SIZE = 10249\n",
    "VAL_SIZE = 1025\n",
    "\n",
    "# 20%:10%:70% data for training, validation and testing\n",
    "\n",
    "TRAIN_SIZE = 2055\n",
    "TEST_SIZE = TOTAL_SIZE - TRAIN_SIZE\n",
    "VALIDATION_SPLIT = 0.8\n",
    "# TRAIN_NUM = 10\n",
    "# TRAIN_SIZE = TRAIN_NUM * nb_classes\n",
    "# TEST_SIZE = TOTAL_SIZE - TRAIN_SIZE\n",
    "# VAL_SIZE = TRAIN_SIZE\n",
    "\n",
    "ALL_SIZE = data_IN.shape[0] * data_IN.shape[1]\n",
    "\n",
    "img_channels = 200\n",
    "VALIDATION_SPLIT = 0.80\n",
    "PATCH_LENGTH = 3                #Patch_size (13*2+1)*(13*2+1)\n",
    "\n",
    "data = data_IN.reshape(np.prod(data_IN.shape[:2]),np.prod(data_IN.shape[2:]))\n",
    "gt = new_gt_IN.reshape(np.prod(new_gt_IN.shape[:2]),)\n",
    "\n",
    "data = preprocessing.scale(data)\n",
    "\n",
    "# scaler = preprocessing.MaxAbsScaler()\n",
    "# data = scaler.fit_transform(data)\n",
    "\n",
    "data_ = data.reshape(data_IN.shape[0], data_IN.shape[1],data_IN.shape[2])\n",
    "whole_data = data_\n",
    "padded_data = zeroPadding.zeroPadding_3D(whole_data, PATCH_LENGTH)\n",
    "\n",
    "ITER = 1\n",
    "CATEGORY = 16\n",
    "\n",
    "all_data = np.zeros((ALL_SIZE, 2*PATCH_LENGTH + 1, 2*PATCH_LENGTH + 1, INPUT_DIMENSION_CONV))\n",
    "train_data = np.zeros((TRAIN_SIZE, 2*PATCH_LENGTH + 1, 2*PATCH_LENGTH + 1, INPUT_DIMENSION_CONV))\n",
    "test_data = np.zeros((TEST_SIZE, 2*PATCH_LENGTH + 1, 2*PATCH_LENGTH + 1, INPUT_DIMENSION_CONV))\n",
    "\n",
    "seeds = [1334]\n",
    "\n",
    "for index_iter in range(ITER):\n",
    "    print(\"# %d Iteration\" % (index_iter + 1))\n",
    "\n",
    "    best_weights_RES_path_ss4 = r'''C:\\Users\\josep\\Desktop\\RS\\residualnet_tensorflow_keras\\residualnet_tensorflow_keras\\SSRN-master\\models\\Indian_best_RES_3D_SS4_10_''' + str(\n",
    "        index_iter + 1) + '.hdf5'\n",
    "\n",
    "    np.random.seed(seeds[0])\n",
    "\n",
    "#    train_indices, test_indices = sampleFixNum.samplingFixedNum(TRAIN_NUM, gt)\n",
    "    train_indices, test_indices = sampling(VALIDATION_SPLIT, gt)\n",
    "\n",
    "    y_train_raw = gt[train_indices] - 1\n",
    "    y_train = to_categorical(np.asarray(y_train_raw))\n",
    "\n",
    "    y_test_raw = gt[test_indices] - 1\n",
    "    y_test = to_categorical(np.asarray(y_test_raw))\n",
    "\n",
    "    all_assign = indexToAssignment(range(ALL_SIZE), whole_data.shape[0], whole_data.shape[1], PATCH_LENGTH)\n",
    "    for i in range(len(all_assign)):\n",
    "        all_data[i] = selectNeighboringPatch(padded_data, all_assign[i][0], all_assign[i][1], PATCH_LENGTH)\n",
    "\n",
    "    # first principal component training data\n",
    "    train_assign = indexToAssignment(train_indices, whole_data.shape[0], whole_data.shape[1], PATCH_LENGTH)\n",
    "    # train_data = np.zeros((len(train_assign), 2*PATCH_LENGTH + 1, 2*PATCH_LENGTH + 1, INPUT_DIMENSION_CONV))\n",
    "    for i in range(len(train_assign)):\n",
    "        train_data[i] = selectNeighboringPatch(padded_data, train_assign[i][0], train_assign[i][1], PATCH_LENGTH)\n",
    "\n",
    "    # first principal component testing data\n",
    "    test_assign = indexToAssignment(test_indices, whole_data.shape[0], whole_data.shape[1], PATCH_LENGTH)\n",
    "    # test_data = np.zeros((len(test_assign), 2*PATCH_LENGTH + 1, 2*PATCH_LENGTH + 1, INPUT_DIMENSION_CONV))\n",
    "    for i in range(len(test_assign)):\n",
    "        test_data[i] = selectNeighboringPatch(padded_data, test_assign[i][0], test_assign[i][1], PATCH_LENGTH)\n",
    "\n",
    "    # x_train = train_data.reshape(train_data.shape[0], train_data.shape[1], train_data.shape[2], INPUT_DIMENSION_CONV)\n",
    "    # x_test = test_data.reshape(test_data.shape[0], test_data.shape[1], test_data.shape[2], INPUT_DIMENSION_CONV)\n",
    "\n",
    "    # x_all = all_data.reshape(all_data.shape[0], all_data.shape[1], all_data.shape[2], INPUT_DIMENSION_CONV)\n",
    "    # x_train = train_data.reshape(train_data.shape[0], train_data.shape[1], train_data.shape[2], INPUT_DIMENSION_CONV)\n",
    "    # x_test_all = test_data.reshape(test_data.shape[0], test_data.shape[1], test_data.shape[2], INPUT_DIMENSION_CONV)\n",
    "\n",
    "    # x_val = x_test_all[-VAL_SIZE:]\n",
    "    # y_val = y_test[-VAL_SIZE:]\n",
    "    #\n",
    "    # x_test = x_test_all[:-VAL_SIZE]\n",
    "    # y_test = y_test[:-VAL_SIZE]\n",
    "\n",
    "    # load trained model\n",
    "    model_res4_ss = res4_model_ss()\n",
    "\n",
    "    model_res4_ss.load_weights(best_weights_RES_path_ss4)\n",
    "\n",
    "    pred_test_conv1 = model_res4_ss.predict(all_data.reshape(all_data.shape[0],all_data.shape[1],all_data.shape[2],all_data.shape[3],1)).argmax(axis=1)\n",
    "\n",
    "    x = np.ravel(pred_test_conv1)\n",
    "    # print x\n",
    "    y = np.zeros((x.shape[0], 3))\n",
    "\n",
    "    for index, item in enumerate(x):\n",
    "        if item == 0:\n",
    "            y[index] = np.array([255, 0, 0]) / 255.\n",
    "        if item == 1:\n",
    "            y[index] = np.array([0, 255, 0]) / 255.\n",
    "        if item == 2:\n",
    "            y[index] = np.array([0, 0, 255]) / 255.\n",
    "        if item == 3:\n",
    "            y[index] = np.array([255, 255, 0]) / 255.\n",
    "        if item == 4:\n",
    "            y[index] = np.array([0, 255, 255]) / 255.\n",
    "        if item == 5:\n",
    "            y[index] = np.array([255, 0, 255]) / 255.\n",
    "        if item == 6:\n",
    "            y[index] = np.array([192, 192, 192]) / 255.\n",
    "        if item == 7:\n",
    "            y[index] = np.array([128, 128, 128]) / 255.\n",
    "        if item == 8:\n",
    "            y[index] = np.array([128, 0, 0]) / 255.\n",
    "        if item == 9:\n",
    "            y[index] = np.array([128, 128, 0]) / 255.\n",
    "        if item == 10:\n",
    "            y[index] = np.array([0, 128, 0]) / 255.\n",
    "        if item == 11:\n",
    "            y[index] = np.array([128, 0, 128]) / 255.\n",
    "        if item == 12:\n",
    "            y[index] = np.array([0, 128, 128]) / 255.\n",
    "        if item == 13:\n",
    "            y[index] = np.array([0, 0, 128]) / 255.\n",
    "        if item == 14:\n",
    "            y[index] = np.array([255, 165, 0]) / 255.\n",
    "        if item == 15:\n",
    "            y[index] = np.array([255, 215, 0]) / 255.\n",
    "\n",
    "    # print y\n",
    "\n",
    "    y_re = np.reshape(y, (gt_IN.shape[0], gt_IN.shape[1], 3))\n",
    "\n",
    "    classification_map(y_re, gt_IN, 24, r'''C:\\Users\\josep\\Desktop\\RS\\residualnet_tensorflow_keras\\residualnet_tensorflow_keras\\SSRN-master\\Cmaps\\RES4_SS_IN.png''')\n",
    "print('Finished *IN Classification Maps* at ' + time.ctime(time.time()))"
   ]
  },
  {
   "cell_type": "code",
   "execution_count": null,
   "metadata": {},
   "outputs": [],
   "source": []
  }
 ],
 "metadata": {
  "kernelspec": {
   "display_name": "Python 3",
   "language": "python",
   "name": "python3"
  },
  "language_info": {
   "codemirror_mode": {
    "name": "ipython",
    "version": 3
   },
   "file_extension": ".py",
   "mimetype": "text/x-python",
   "name": "python",
   "nbconvert_exporter": "python",
   "pygments_lexer": "ipython3",
   "version": "3.7.1"
  }
 },
 "nbformat": 4,
 "nbformat_minor": 2
}
